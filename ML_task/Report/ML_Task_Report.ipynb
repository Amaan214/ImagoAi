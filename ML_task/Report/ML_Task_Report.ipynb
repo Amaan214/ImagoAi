{
  "cells": [
    {
      "cell_type": "markdown",
      "metadata": {
        "id": "ndkT_J7bgQHC"
      },
      "source": [
        "# **Machine Learning Task Report**"
      ]
    },
    {
      "cell_type": "markdown",
      "metadata": {
        "id": "oUHArMMkgSEd"
      },
      "source": [
        "## **1. Preprocessing Steps and Rationale**"
      ]
    },
    {
      "cell_type": "markdown",
      "metadata": {
        "id": "Y32577CdgYtA"
      },
      "source": [
        "### Data Cleaning"
      ]
    },
    {
      "cell_type": "markdown",
      "metadata": {
        "id": "VtYyO8sggepS"
      },
      "source": [
        "Duplicate Removal: There were no duplicate entries in the data.\n",
        "\n",
        "Handling Missing Values: Checked for null values and decided on appropriate handling mechanisms."
      ]
    },
    {
      "cell_type": "markdown",
      "metadata": {
        "id": "GBqDgW6kg2F0"
      },
      "source": [
        "### Outlier Detection and Handling"
      ]
    },
    {
      "cell_type": "markdown",
      "metadata": {
        "id": "KraZoSzmg-hy"
      },
      "source": [
        "Identified Outliers: Used the Interquartile Range (IQR) method to detect extreme values in the vomitoxin_ppb column.\n",
        "\n",
        "Outlier Treatment: Compared different methods:\n",
        "\n",
        "Median Replacement: Replaced outliers with the median value.\n",
        "\n",
        "Log Transformation: Applied logarithmic scaling.\n",
        "\n",
        "Winsorization: Capped extreme values at 5th and 95th percentiles."
      ]
    },
    {
      "cell_type": "markdown",
      "metadata": {
        "id": "Q-qLIiNbhCSE"
      },
      "source": [
        "### Normalization"
      ]
    },
    {
      "cell_type": "markdown",
      "metadata": {
        "id": "B-byok3XhytV"
      },
      "source": [
        "Applied MinMax Scaling to normalize all features to a consistent range."
      ]
    },
    {
      "cell_type": "markdown",
      "metadata": {
        "id": "uGqQL4bsh2nn"
      },
      "source": [
        "### Exploratory Data Analysis (EDA)"
      ]
    },
    {
      "cell_type": "markdown",
      "metadata": {
        "id": "hYpnPgoWh5nX"
      },
      "source": [
        "Used box plots and histograms to visualize data distributions.\n",
        "\n",
        "Plotted spectral band reflectance to observe feature importance.\n",
        "\n",
        "Heatmap generated to examine feature correlations."
      ]
    },
    {
      "cell_type": "markdown",
      "metadata": {
        "id": "2wIf9zG-h7f-"
      },
      "source": [
        "## **2. Insights from Dimensionality Reduction**"
      ]
    },
    {
      "cell_type": "markdown",
      "metadata": {
        "id": "maU67Zv9irdn"
      },
      "source": [
        "Principal Component Analysis (PCA) was applied to reduce high-dimensional spectral data to 3 principal components.\n",
        "\n",
        "Explained Variance: PCA components retained a significant proportion of variance, ensuring minimal information loss.\n",
        "\n",
        "Visualization: A 3D scatter plot illustrated data separation post-reduction, demonstrating meaningful structure in the dataset."
      ]
    },
    {
      "cell_type": "markdown",
      "metadata": {
        "id": "devbkkXAitnM"
      },
      "source": [
        "## **3. Model Selection, Training, and Evaluation**"
      ]
    },
    {
      "cell_type": "markdown",
      "metadata": {
        "id": "v5A3JQ6ZkdWw"
      },
      "source": [
        "### Model Choice : CNN"
      ]
    },
    {
      "cell_type": "markdown",
      "metadata": {
        "id": "r2m2TVUfkPt0"
      },
      "source": [
        "CNN-based Regression Model was selected due to its ability to extract spatial patterns from spectral data."
      ]
    },
    {
      "cell_type": "markdown",
      "metadata": {
        "id": "JOl9xinLkak3"
      },
      "source": [
        "### Training"
      ]
    },
    {
      "cell_type": "markdown",
      "metadata": {
        "id": "Uj4p5wR9krhH"
      },
      "source": [
        "Data Splitting: 80% training, 20% testing to ensure sufficient training data while maintaining a robust evaluation set.\n",
        "\n",
        "Loss Function: Mean Squared Error (MSE) was used as it is a standard regression loss that penalizes larger errors more.\n",
        "\n",
        "Optimizer: Adam was chosen for its efficiency and adaptability in adjusting learning rates dynamically."
      ]
    },
    {
      "cell_type": "markdown",
      "metadata": {
        "id": "QduUEurkk_1V"
      },
      "source": [
        "### Evaluation"
      ]
    },
    {
      "cell_type": "markdown",
      "metadata": {
        "id": "NV6S75gVlRDK"
      },
      "source": [
        "Mean Absolute Error (MAE) = 0.0261\n",
        "\n",
        "MAE measures the average absolute difference between predicted and actual values.\n",
        "A lower MAE means better accuracy.\n",
        "\n",
        "Root Mean Squared Error (RMSE) = 0.0833\n",
        "\n",
        "RMSE penalizes larger errors more than MAE because it squares the errors before averaging.\n",
        "A lower RMSE indicates a better fit.\n",
        "\n",
        "R² Score (R-squared) = 0.6700\n",
        "\n",
        "R² measures how well your model explains the variance in the target variable.\n",
        "It ranges from 0 to 1, where 1 means perfect prediction and 0 means the model explains nothing beyond the mean.\n",
        "\n",
        "Result:\n",
        "\n",
        "Our model performs reasonably well with mae and mse\n",
        "but performs decently in R²."
      ]
    },
    {
      "cell_type": "markdown",
      "metadata": {
        "id": "Ah8-n9VWmhMp"
      },
      "source": [
        "# **4. Key Findings and Suggestions for Improvement**"
      ]
    },
    {
      "cell_type": "markdown",
      "metadata": {
        "id": "pZvffewFmjB6"
      },
      "source": [
        "## Key Findings"
      ]
    },
    {
      "cell_type": "markdown",
      "metadata": {
        "id": "E5o4YnVCmnv8"
      },
      "source": [
        "Our PCA reduced almost 94% of the essential information while still preserving the data.\n",
        "\n",
        "The CNN model successfully captured patterns in the spectral data.\n",
        "\n",
        "Outlier handling methods significantly impacted model performance and therefore we selected median for outlier handling because log transformation and winsorization suppresses the important data."
      ]
    },
    {
      "cell_type": "markdown",
      "metadata": {
        "id": "FcjD-AfMnlIY"
      },
      "source": [
        "## Suggestions for Improvement"
      ]
    },
    {
      "cell_type": "markdown",
      "metadata": {
        "id": "zbET9gGOn4RD"
      },
      "source": [
        "**Alternative method** :\n",
        "We could consider LSTM model for improving the accuracy.\n",
        "\n",
        "**Dataset** :  We can experiment with increased data size to improve R² handling."
      ]
    },
    {
      "cell_type": "markdown",
      "metadata": {},
      "source": [
        "## Trade-offs and Challenges:"
      ]
    },
    {
      "cell_type": "markdown",
      "metadata": {},
      "source": [
        "Log transformation is effective in handling skewness but fails if data contains zero or negative values.\n",
        "\n",
        "Winsorization prevents extreme influences but may distort natural data variation.\n",
        "\n",
        "PCA reduces dimensionality but may discard some useful variance.\n",
        "\n",
        "CNNs require substantial computational power compared to traditional regression models."
      ]
    }
  ],
  "metadata": {
    "colab": {
      "provenance": []
    },
    "kernelspec": {
      "display_name": "Python 3",
      "name": "python3"
    },
    "language_info": {
      "name": "python"
    }
  },
  "nbformat": 4,
  "nbformat_minor": 0
}
